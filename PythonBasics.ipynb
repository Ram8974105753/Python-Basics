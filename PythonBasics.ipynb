{
  "nbformat": 4,
  "nbformat_minor": 0,
  "metadata": {
    "colab": {
      "provenance": []
    },
    "kernelspec": {
      "name": "python3",
      "display_name": "Python 3"
    },
    "language_info": {
      "name": "python"
    }
  },
  "cells": [
    {
      "cell_type": "markdown",
      "source": [
        "# PythonBasics\n"
      ],
      "metadata": {
        "id": "sSL3urTHveJe"
      }
    },
    {
      "cell_type": "markdown",
      "source": [
        "1. What is Python, and why is it popular?\n",
        "  \n",
        "  - Python is a high-level, general-purpose programming language known for its\n",
        "   simplicity and readability. It was created by Guido van Rossum and first released in 1991. Python is designed to be easy to read and write, making it an excellent choice for both beginners and experienced programmers. Its syntax emphasizes clarity, which reduces the cost of program maintenance.\n",
        "\n",
        "   It is popular because Python's combination of simplicity, versatility, and strong community support makes it a highly popular and powerful programming language. Whether you're a beginner learning to code or an expert developing complex systems, Python is often the language of choice.\n",
        "\n",
        "2. What is an interpreter in Python?\n",
        "   - An interpreter in Python is a program that executes Python code line by line, translating it into machine code that the computer can understand and execute. Unlike compiled languages (e.g., C or Java), Python does not need to go through a separate compilation step to produce an executable file before running the code.\n",
        "   The Python interpreter is responsible for:\n",
        "   Reading Python Code,Parsing,Executing.\n",
        "\n",
        "3. What are pre-defined keywords in Python?\n",
        "   - Predefined keywords in Python are reserved words that have specific meanings and purposes within the Python language. These words are part of the language syntax and cannot be used as identifiers e.g., variable names, function names, or class names because they have predefined functions and behaviors.\n",
        "\n",
        "4.  Can keywords be used as variable names?\n",
        "    - No, keywords cannot be used as variable names in Python. Keywords are reserved words that have predefined meanings and functions in the language, so using them as variable names would cause a syntax error. Python strictly enforces this rule to avoid ambiguity in the code.\n",
        "5. What is mutability in Python?\n",
        "   - Mutability in Python refers to the ability of an object to be modified after it has been created. Depending on their type.\n",
        "6.  Why are lists mutable, but tuples are immutable?\n",
        "    - Design Philosophy and Use Cases\n",
        "      Lists Mutable\n",
        "\n",
        "      Purpose: Lists are designed to be dynamic and versatile data structures that allow frequent updates. They are often used for collections of data that are subject to change, such as adding, removing, or modifying elements.\n",
        "\n",
        "      Behavior: Lists allow in-place modification e.g., changing elements, appending, or removing items.\n",
        "\n",
        "      Tuples Immutable\n",
        "\n",
        "      Purpose: Tuples are designed to represent fixed collections of items. They are often used for:\n",
        "\n",
        "      Data integrity: Preventing accidental modifications.\n",
        "\n",
        "      Hashability: Since tuples are immutable, they can be used as keys in dictionaries or elements in sets, unlike lists.\n",
        "\n",
        "      Behavior: Tuples cannot be modified after creation. Any attempt to do so results in an error.\n",
        "7.  What is the difference between “==” and “is” operators in Python?\n",
        "    - == Operator (Equality Operator)\n",
        "Purpose: Checks whether the values of two objects are equal.\n",
        "Behavior: Compares the contents (or values) of the objects.\n",
        "Usage: Commonly used to compare strings, numbers, lists, and other data types for equality.\n",
        "\n",
        "      is Operator (Identity Operator)\n",
        "Purpose: Checks whether two objects refer to the same memory location.\n",
        "Behavior: Compares the identity of the objects, not their contents.\n",
        "Usage: Used to verify if two variables point to the same object in memory.\n",
        "\n",
        "8. What are logical operators in Python?\n",
        "   - Logical operators in Python are used to perform logical operations on boolean values (True or False). These operators allow you to combine or modify conditions and are commonly used in decision-making and conditional statements.\n",
        "\n",
        "9. What is type casting in Python?\n",
        "   - Type casting in Python is the process of converting one data type to another. This allows developers to manipulate variables in ways that are appropriate for their intended use, such as converting a string to an integer or a float to a string.\n",
        "\n",
        "10. What is the difference between implicit and explicit type casting?\n",
        "    - Both implicit and explicit type casting are ways to convert one data type to another, but they differ in terms of how the conversion is performed and the control you have over it.\n",
        "\n",
        "     Implicit Type Casting\n",
        "     Definition: Implicit type casting, also known as type coercion, is automatically performed by Python when it needs to convert a smaller data type to a larger data type in a safe manner, without losing information.\n",
        "      \n",
        "     When it happens: Python automatically performs this conversion when the expression involves mixed data types, and it is safe to promote one type to a larger one e.g., converting an integer to a float during arithmetic operations.\n",
        "       \n",
        "     Example: Converting an integer to a float when performing arithmetic with a float.\n",
        "\n",
        "     Explicit Type Casting\n",
        "     Definition: Explicit type casting is manually performed by the programmer using type conversion functions. It requires the programmer to explicitly convert one data type to another, even if the conversion could result in a loss of information or is not automatically handled by Python.\n",
        "       \n",
        "     When it happens: The programmer chooses when and how to perform the conversion using built-in functions like int(), float(), str(), etc.\n",
        "\n",
        "     Example: Converting a float to an integer, which may truncate the decimal part.\n",
        "11.  What is the purpose of conditional statements in Python?\n",
        "\n",
        "     - Conditional statements in Python are used to perform different actions or execute specific code depending on whether a condition (or set of conditions) is True or False. They enable the program to make decisions and execute different branches of code based on certain conditions, making the program more dynamic and interactive.\n",
        "12.  How does the elif statement work?\n",
        "     - The elif statement in Python allows for more flexible decision-making by letting you test multiple conditions in sequence. It makes the program easier to understand and maintain compared to multiple nested if statements.\n",
        "13.  What is the difference between for and while loops?\n",
        "     - for loops are best when iterating over a known sequence or when the number of iterations is predetermined.\n",
        "\n",
        "     while loops are more suitable when you need to repeat code based on a condition that might change dynamically during execution.\n",
        "     In general, if you know exactly how many times you need to iterate (e.g., iterating over a list or range), use a for loop. If the iteration depends on a condition that might vary, use a while loop.\n",
        "14.   Describe a scenario where a while loop is more suitable than a for loop?\n",
        "     - A typical scenario where a while loop is more suitable than a for loop is when you're continuously prompting a user for input and you want to keep asking until they provide a valid input. Since the number of iterations is not fixed and depends on when the user provides the correct input, a while loop is the ideal choice.\n",
        "      \n",
        "    \n",
        "     \n",
        "\n"
      ],
      "metadata": {
        "id": "LCtHZU_gv4vl"
      }
    },
    {
      "cell_type": "markdown",
      "source": [
        "# Practical Questions\n"
      ],
      "metadata": {
        "id": "gLMWEncb9z2x"
      }
    },
    {
      "cell_type": "code",
      "source": [
        "#1. Write a Python program to print\n",
        "\n",
        "print(\"Hello, World!\")\n",
        "\n"
      ],
      "metadata": {
        "colab": {
          "base_uri": "https://localhost:8080/"
        },
        "id": "FcipXFaK-nGw",
        "outputId": "4266d889-f562-4bbf-c407-627192d83143"
      },
      "execution_count": 8,
      "outputs": [
        {
          "output_type": "stream",
          "name": "stdout",
          "text": [
            "Hello, World!\n"
          ]
        }
      ]
    },
    {
      "cell_type": "code",
      "source": [
        "#2. Write a Python program that displays your name and age\n",
        "\n",
        "name = \"Shubrajit Roy\"  # Replace with your name\n",
        "age = 25  # Replace with your age\n",
        "\n",
        "print(\"Name:\", name)\n",
        "print(\"Age:\", age)"
      ],
      "metadata": {
        "colab": {
          "base_uri": "https://localhost:8080/"
        },
        "id": "8Emhnj5p_9JB",
        "outputId": "e53c7de9-50e2-4a89-ba43-747a582c7639"
      },
      "execution_count": 4,
      "outputs": [
        {
          "output_type": "stream",
          "name": "stdout",
          "text": [
            "Name: Shubrajit Roy\n",
            "Age: 25\n"
          ]
        }
      ]
    },
    {
      "cell_type": "code",
      "source": [
        "#3. Write code to print all the pre-defined keywords in Python using the keyword library0\n",
        "import keyword\n",
        "\n",
        "# Print all predefined keywords in Python\n",
        "print(\"Python's predefined keywords are:\")\n",
        "print(keyword.kwlist)"
      ],
      "metadata": {
        "colab": {
          "base_uri": "https://localhost:8080/"
        },
        "id": "MTylPXh3ArkS",
        "outputId": "7ac40ca4-2fa7-4da1-955b-99ab1806845b"
      },
      "execution_count": 9,
      "outputs": [
        {
          "output_type": "stream",
          "name": "stdout",
          "text": [
            "Python's predefined keywords are:\n",
            "['False', 'None', 'True', 'and', 'as', 'assert', 'async', 'await', 'break', 'class', 'continue', 'def', 'del', 'elif', 'else', 'except', 'finally', 'for', 'from', 'global', 'if', 'import', 'in', 'is', 'lambda', 'nonlocal', 'not', 'or', 'pass', 'raise', 'return', 'try', 'while', 'with', 'yield']\n"
          ]
        }
      ]
    },
    {
      "cell_type": "code",
      "source": [
        "# 4. Write a program that checks if a given word is a Python keyword\n",
        "import keyword\n",
        "\n",
        "# Get input from the user\n",
        "word = input(\"Enter a word: \")\n",
        "\n",
        "# Check if the word is a Python keyword\n",
        "if keyword.iskeyword(word):\n",
        "    print(f\"'{word}' is a Python keyword.\")\n",
        "else:\n",
        "    print(f\"'{word}' is not a Python keyword.\")"
      ],
      "metadata": {
        "colab": {
          "base_uri": "https://localhost:8080/"
        },
        "id": "05l4KPwrA7NA",
        "outputId": "0a6d2659-b8e1-4ffa-b5bc-80737db60755"
      },
      "execution_count": 11,
      "outputs": [
        {
          "output_type": "stream",
          "name": "stdout",
          "text": [
            "Enter a word: for\n",
            "'for' is a Python keyword.\n"
          ]
        }
      ]
    },
    {
      "cell_type": "code",
      "source": [
        "# 5. Create a list and tuple in Python, and demonstrate how attempting to change an element works differently\n",
        "\n",
        "\n",
        "# Creating a list and a tuple\n",
        "my_list = [1, 2, 3, 4, 5]\n",
        "my_tuple = (1, 2, 3, 4, 5)\n",
        "\n",
        "# Attempting to change an element in the list\n",
        "print(\"Original list:\", my_list)\n",
        "my_list[2] = 99  # Changing the third element in the list\n",
        "print(\"Updated list:\", my_list)\n",
        "\n",
        "# Attempting to change an element in the tuple\n",
        "print(\"\\nOriginal tuple:\", my_tuple)\n",
        "try:\n",
        "    my_tuple[2] = 99  # Trying to change the third element in the tuple\n",
        "except TypeError as e:\n",
        "    print(\"Error:\", e)\n"
      ],
      "metadata": {
        "colab": {
          "base_uri": "https://localhost:8080/"
        },
        "id": "5FWl2aD6CBBp",
        "outputId": "3b0dcf42-b694-44cb-eee4-a6a38b772158"
      },
      "execution_count": 13,
      "outputs": [
        {
          "output_type": "stream",
          "name": "stdout",
          "text": [
            "Original list: [1, 2, 3, 4, 5]\n",
            "Updated list: [1, 2, 99, 4, 5]\n",
            "\n",
            "Original tuple: (1, 2, 3, 4, 5)\n",
            "Error: 'tuple' object does not support item assignment\n"
          ]
        }
      ]
    },
    {
      "cell_type": "code",
      "source": [
        "# 6. Write a function to demonstrate the behavior of mutable and immutable arguments\n",
        "# Function to demonstrate mutable and immutable argument behavior\n",
        "def modify_arguments(mutable_arg, immutable_arg):\n",
        "    # Modifying the mutable argument (list)\n",
        "    print(\"Before modifying mutable argument:\", mutable_arg)\n",
        "    mutable_arg.append(100)  # Adding an element to the list\n",
        "    print(\"After modifying mutable argument:\", mutable_arg)\n",
        "\n",
        "    # Trying to modify the immutable argument (integer)\n",
        "    print(\"Before modifying immutable argument:\", immutable_arg)\n",
        "    immutable_arg += 10  # This does not modify the original integer, it creates a new one\n",
        "    print(\"After modifying immutable argument:\", immutable_arg)\n",
        "\n",
        "# Test the function with a mutable and an immutable argument\n",
        "my_list = [1, 2, 3]\n",
        "my_int = 5\n",
        "\n",
        "# Call the function\n",
        "modify_arguments(my_list, my_int)\n",
        "\n",
        "# Check the values outside the function\n",
        "print(\"\\nOutside function - Final mutable argument:\", my_list)\n",
        "print(\"Outside function - Final immutable argument:\", my_int)\n"
      ],
      "metadata": {
        "colab": {
          "base_uri": "https://localhost:8080/"
        },
        "id": "PkCRUe4WCbJS",
        "outputId": "2a931b19-efb9-4a00-c34d-c16c7e4c0fe5"
      },
      "execution_count": 14,
      "outputs": [
        {
          "output_type": "stream",
          "name": "stdout",
          "text": [
            "Before modifying mutable argument: [1, 2, 3]\n",
            "After modifying mutable argument: [1, 2, 3, 100]\n",
            "Before modifying immutable argument: 5\n",
            "After modifying immutable argument: 15\n",
            "\n",
            "Outside function - Final mutable argument: [1, 2, 3, 100]\n",
            "Outside function - Final immutable argument: 5\n"
          ]
        }
      ]
    },
    {
      "cell_type": "code",
      "source": [
        "# 7. Write a function to demonstrate the behavior of mutable and immutable arguments\n",
        "\n",
        "# Function to demonstrate mutable and immutable argument behavior\n",
        "def modify_arguments(mutable_arg, immutable_arg):\n",
        "    print(\"Before modifying mutable argument:\", mutable_arg)\n",
        "    # Modifying mutable argument (list)\n",
        "    mutable_arg.append(10)  # Adding an element to the list\n",
        "    print(\"After modifying mutable argument:\", mutable_arg)\n",
        "\n",
        "    print(\"Before modifying immutable argument:\", immutable_arg)\n",
        "    # Modifying immutable argument (integer)\n",
        "    immutable_arg += 5  # This creates a new integer, it doesn't change the original one\n",
        "    print(\"After modifying immutable argument:\", immutable_arg)\n",
        "\n",
        "# Test the function with a mutable and an immutable argument\n",
        "my_list = [1, 2, 3]\n",
        "my_int = 5\n",
        "\n",
        "# Call the function\n",
        "modify_arguments(my_list, my_int)\n",
        "\n",
        "# Check the values outside the function\n",
        "print(\"\\nOutside function - Final mutable argument:\", my_list)\n",
        "print(\"Outside function - Final immutable argument:\", my_int)\n"
      ],
      "metadata": {
        "colab": {
          "base_uri": "https://localhost:8080/"
        },
        "id": "OpqjC4RDC-_h",
        "outputId": "67b719d6-4588-486b-a0c3-5f03d5d094f6"
      },
      "execution_count": 15,
      "outputs": [
        {
          "output_type": "stream",
          "name": "stdout",
          "text": [
            "Before modifying mutable argument: [1, 2, 3]\n",
            "After modifying mutable argument: [1, 2, 3, 10]\n",
            "Before modifying immutable argument: 5\n",
            "After modifying immutable argument: 10\n",
            "\n",
            "Outside function - Final mutable argument: [1, 2, 3, 10]\n",
            "Outside function - Final immutable argument: 5\n"
          ]
        }
      ]
    },
    {
      "cell_type": "code",
      "source": [
        "# 8. Write a program to demonstrate the use of logical operators\n",
        "# Demonstrating logical operators\n",
        "\n",
        "# Define two variables\n",
        "x = 5\n",
        "y = 10\n",
        "\n",
        "# Using 'and' operator: Both conditions must be true\n",
        "print(\"Using 'and' operator:\")\n",
        "print(f\"x = {x}, y = {y}\")\n",
        "print(f\"Is x > 3 and y < 15? {x > 3 and y < 15}\")  # Both conditions are True\n",
        "\n",
        "# Using 'or' operator: At least one condition must be true\n",
        "print(\"\\nUsing 'or' operator:\")\n",
        "print(f\"x = {x}, y = {y}\")\n",
        "print(f\"Is x > 3 or y > 15? {x > 3 or y > 15}\")  # One condition is True\n",
        "\n",
        "# Using 'not' operator: Reverses the condition\n",
        "print(\"\\nUsing 'not' operator:\")\n",
        "print(f\"x = {x}, y = {y}\")\n",
        "print(f\"Is not x > 3? {not x > 3}\")  # Reverses the condition (False becomes True)\n",
        "print(f\"Is not y < 5? {not y < 5}\")  # Reverses the condition (True becomes False)"
      ],
      "metadata": {
        "colab": {
          "base_uri": "https://localhost:8080/"
        },
        "id": "v6Xy4JQMDjaD",
        "outputId": "7a8c3bea-7ec2-42b1-90e1-06a56655517a"
      },
      "execution_count": 16,
      "outputs": [
        {
          "output_type": "stream",
          "name": "stdout",
          "text": [
            "Using 'and' operator:\n",
            "x = 5, y = 10\n",
            "Is x > 3 and y < 15? True\n",
            "\n",
            "Using 'or' operator:\n",
            "x = 5, y = 10\n",
            "Is x > 3 or y > 15? True\n",
            "\n",
            "Using 'not' operator:\n",
            "x = 5, y = 10\n",
            "Is not x > 3? False\n",
            "Is not y < 5? True\n"
          ]
        }
      ]
    },
    {
      "cell_type": "code",
      "source": [
        "# 9.Write a Python program to convert user input from string to integer, float, and boolean types\n",
        "  # Taking user input as a string\n",
        "user_input = input(\"Enter a value: \")\n",
        "\n",
        "# Convert the user input to integer\n",
        "try:\n",
        "    int_value = int(user_input)\n",
        "    print(f\"Integer value: {int_value}\")\n",
        "except ValueError:\n",
        "    print(\"Cannot convert to integer.\")\n",
        "\n",
        "# Convert the user input to float\n",
        "try:\n",
        "    float_value = float(user_input)\n",
        "    print(f\"Float value: {float_value}\")\n",
        "except ValueError:\n",
        "    print(\"Cannot convert to float.\")\n",
        "\n",
        "# Convert the user input to boolean\n",
        "# Non-empty strings are considered True, while an empty string is considered False\n",
        "boolean_value = bool(user_input)\n",
        "print(f\"Boolean value: {boolean_value}\")"
      ],
      "metadata": {
        "colab": {
          "base_uri": "https://localhost:8080/"
        },
        "id": "OwxIyGFtDxe5",
        "outputId": "ebede629-9e5d-4212-a60b-aa1c3f893a67"
      },
      "execution_count": 18,
      "outputs": [
        {
          "output_type": "stream",
          "name": "stdout",
          "text": [
            "Enter a value: 52\n",
            "Integer value: 52\n",
            "Float value: 52.0\n",
            "Boolean value: True\n"
          ]
        }
      ]
    },
    {
      "cell_type": "code",
      "source": [
        "# 10 Write code to demonstrate type casting with list elements\n",
        "# Creating a list with mixed data types\n",
        "mixed_list = [1, 2.5, '3', True]\n",
        "\n",
        "# Print original list\n",
        "print(\"Original list:\", mixed_list)\n",
        "\n",
        "# Type casting examples:\n",
        "# Convert all elements to integers\n",
        "int_list = [int(item) if isinstance(item, (float, bool, str)) else item for item in mixed_list]\n",
        "print(\"List with elements cast to integers:\", int_list)\n",
        "\n",
        "# Convert all elements to floats\n",
        "float_list = [float(item) if isinstance(item, (int, bool, str)) else item for item in mixed_list]\n",
        "print(\"List with elements cast to floats:\", float_list)\n",
        "\n",
        "# Convert all elements to strings\n",
        "str_list = [str(item) if isinstance(item, (int, float, bool)) else item for item in mixed_list]\n",
        "print(\"List with elements cast to strings:\", str_list)\n",
        "\n",
        "# Convert all elements to booleans\n",
        "bool_list = [bool(item) if isinstance(item, (int, float, str)) else item for item in mixed_list]\n",
        "print(\"List with elements cast to booleans:\",bool_list)"
      ],
      "metadata": {
        "colab": {
          "base_uri": "https://localhost:8080/"
        },
        "id": "ZC7_iNaeEKyr",
        "outputId": "807a9b48-fa4c-4e32-a2f8-1698819f1fa6"
      },
      "execution_count": 25,
      "outputs": [
        {
          "output_type": "stream",
          "name": "stdout",
          "text": [
            "Original list: [1, 2.5, '3', True]\n",
            "List with elements cast to integers: [1, 2, 3, 1]\n",
            "List with elements cast to floats: [1.0, 2.5, 3.0, 1.0]\n",
            "List with elements cast to strings: ['1', '2.5', '3', 'True']\n",
            "List with elements cast to booleans: [True, True, True, True]\n"
          ]
        }
      ]
    },
    {
      "cell_type": "code",
      "source": [
        "# 11. Write a program that checks if a number is positive, negative, or zero\n",
        "\n",
        "# Taking input from the user\n",
        "num = float(input(\"Enter a number: \"))\n",
        "\n",
        "# Check if the number is positive, negative, or zero\n",
        "if num > 0:\n",
        "    print(f\"{num} is a positive number.\")\n",
        "elif num < 0:\n",
        "    print(f\"{num} is a negative number.\")\n",
        "else:\n",
        "    print(\"The number is zero.\")\n"
      ],
      "metadata": {
        "colab": {
          "base_uri": "https://localhost:8080/"
        },
        "id": "4A65KDWhR0kt",
        "outputId": "50742d22-4428-4fe6-de48-198e68bc417c"
      },
      "execution_count": 26,
      "outputs": [
        {
          "output_type": "stream",
          "name": "stdout",
          "text": [
            "Enter a number: 7\n",
            "7.0 is a positive number.\n"
          ]
        }
      ]
    },
    {
      "cell_type": "code",
      "source": [
        "# 12. Write a for loop to print numbers from 1 to 10\n",
        "\n",
        "# Using a for loop to print numbers from 1 to 10\n",
        "for number in range(1, 11):\n",
        "    print(number)\n",
        "\n"
      ],
      "metadata": {
        "colab": {
          "base_uri": "https://localhost:8080/"
        },
        "id": "MXGiSYiYSODM",
        "outputId": "caefdeb7-90b0-41d8-b290-df4e35a33c43"
      },
      "execution_count": 27,
      "outputs": [
        {
          "output_type": "stream",
          "name": "stdout",
          "text": [
            "1\n",
            "2\n",
            "3\n",
            "4\n",
            "5\n",
            "6\n",
            "7\n",
            "8\n",
            "9\n",
            "10\n"
          ]
        }
      ]
    },
    {
      "cell_type": "code",
      "source": [
        "# 13. Write a Python program to find the sum of all even numbers between 1 and 50\n",
        "\n",
        "# Initialize the sum to 0\n",
        "even_sum = 0\n",
        "\n",
        "# Loop through numbers from 1 to 50\n",
        "for number in range(1, 51):\n",
        "    # Check if the number is even\n",
        "    if number % 2 == 0:\n",
        "        even_sum += number  # Add the even number to the sum\n",
        "\n",
        "# Print the sum of all even numbers\n",
        "print(\"Sum of all even numbers between 1 and 50:\", even_sum)"
      ],
      "metadata": {
        "colab": {
          "base_uri": "https://localhost:8080/"
        },
        "id": "XusiH_M7Sc19",
        "outputId": "18cd6375-f5df-40b1-e14d-08104fdd915f"
      },
      "execution_count": 28,
      "outputs": [
        {
          "output_type": "stream",
          "name": "stdout",
          "text": [
            "Sum of all even numbers between 1 and 50: 650\n"
          ]
        }
      ]
    },
    {
      "cell_type": "code",
      "source": [
        "# 14. Write a program to reverse a string using a while loop\n",
        "\n",
        "# Function to reverse a string using a while loop\n",
        "def reverse_string(input_string):\n",
        "    reversed_string = \"\"\n",
        "    index = len(input_string) - 1  # Start from the last index\n",
        "\n",
        "    while index >= 0:\n",
        "        reversed_string += input_string[index]  # Add character to reversed string\n",
        "        index -= 1  # Move to the previous character\n",
        "\n",
        "    return reversed_string\n",
        "\n",
        "# Example usage\n",
        "input_string = input(\"Enter a string: \")\n",
        "reversed_str = reverse_string(input_string)\n",
        "print(\"Reversed string:\", reversed_str)\n"
      ],
      "metadata": {
        "colab": {
          "base_uri": "https://localhost:8080/"
        },
        "id": "swc_HRgXSuFF",
        "outputId": "57437cdc-8244-4113-a1d9-4aaf4002c74d"
      },
      "execution_count": 29,
      "outputs": [
        {
          "output_type": "stream",
          "name": "stdout",
          "text": [
            "Enter a string: RAM\n",
            "Reversed string: MAR\n"
          ]
        }
      ]
    },
    {
      "cell_type": "code",
      "source": [
        "# 15. Write a Python program to calculate the factorial of a number provided by the user using a while loop.\n",
        "\n",
        "# Function to calculate factorial using a while loop\n",
        "def factorial(n):\n",
        "    result = 1  # Initialize result to 1\n",
        "    while n > 1:  # While n is greater than 1\n",
        "        result *= n  # Multiply result by n\n",
        "        n -= 1  # Decrease n by 1\n",
        "    return result\n",
        "\n",
        "# Example usage\n",
        "number = int(input(\"Enter a number to calculate its factorial: \"))\n",
        "if number < 0:\n",
        "    print(\"Factorial is not defined for negative numbers.\")\n",
        "else:\n",
        "    fact = factorial(number)\n",
        "    print(f\"The factorial of {number} is: {fact}\")"
      ],
      "metadata": {
        "colab": {
          "base_uri": "https://localhost:8080/"
        },
        "id": "JDoYxL74S7ye",
        "outputId": "c718c545-e911-4506-fa34-fa514d211726"
      },
      "execution_count": 31,
      "outputs": [
        {
          "output_type": "stream",
          "name": "stdout",
          "text": [
            "Enter a number to calculate its factorial: 5\n",
            "The factorial of 5 is: 120\n"
          ]
        }
      ]
    }
  ]
}